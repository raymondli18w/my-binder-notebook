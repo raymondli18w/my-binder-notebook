{
  "nbformat": 4,
  "nbformat_minor": 0,
  "metadata": {
    "colab": {
      "provenance": []
    },
    "kernelspec": {
      "name": "python3",
      "display_name": "Python 3"
    },
    "language_info": {
      "name": "python"
    },
    "widgets": {
      "application/vnd.jupyter.widget-state+json": {
        "30036a18af644c3fa9bab54c23554476": {
          "model_module": "@jupyter-widgets/controls",
          "model_name": "TextareaModel",
          "model_module_version": "1.5.0",
          "state": {
            "_dom_classes": [],
            "_model_module": "@jupyter-widgets/controls",
            "_model_module_version": "1.5.0",
            "_model_name": "TextareaModel",
            "_view_count": null,
            "_view_module": "@jupyter-widgets/controls",
            "_view_module_version": "1.5.0",
            "_view_name": "TextareaView",
            "continuous_update": true,
            "description": "Paste your TSV data:",
            "description_tooltip": null,
            "disabled": false,
            "layout": "IPY_MODEL_ae7c91a02d8344cd8d6b6523d3b61357",
            "placeholder": "​",
            "rows": null,
            "style": "IPY_MODEL_e15de9027f044ab48579bc5304f20543",
            "value": "Reference #\tPick ID\tPick Date\tSales Order No.\tCustomer PO\tShip To\tWHSE\tStreet\tCity\tZip Code\tCountry/Region\tItem No.\tEach Qty\tstate\tCLIENT\n290638-71387\t71387\t08/11/2025\t290638PO#93099\tPO#93099\tFortin's Supply Ltd\tFRASER\t45750 Airport Road\tChilliwack\tV2P 1A2\tCA\tCH6590\t1\tBC\tKL04\n290638-71387\t71387\t08/11/2025\t290638PO#93099\tPO#93099\tFortin's Supply Ltd\tFRASER\t45750 Airport Road\tChilliwack\tV2P 1A2\tCA\tCH8950\t3\tBC\tKL04\n290638-71387\t71387\t08/11/2025\t290638PO#93099\tPO#93099\tFortin's Supply Ltd\tFRASER\t45750 Airport Road\tChilliwack\tV2P 1A2\tCA\tGL1080\t6\tBC\tKL04\n290638-71387\t71387\t08/11/2025\t290638PO#93099\tPO#93099\tFortin's Supply Ltd\tFRASER\t45750 Airport Road\tChilliwack\tV2P 1A2\tCA\tLD1260\t3\tBC\tKL04\n290638-71387\t71387\t08/11/2025\t290638PO#93099\tPO#93099\tFortin's Supply Ltd\tFRASER\t45750 Airport Road\tChilliwack\tV2P 1A2\tCA\tLD1460\t6\tBC\tKL04\n290638-71387\t71387\t08/11/2025\t290638PO#93099\tPO#93099\tFortin's Supply Ltd\tFRASER\t45750 Airport Road\tChilliwack\tV2P 1A2\tCA\tLD3082\t2\tBC\tKL04\n290638-71387\t71387\t08/11/2025\t290638PO#93099\tPO#93099\tFortin's Supply Ltd\tFRASER\t45750 Airport Road\tChilliwack\tV2P 1A2\tCA\tTF1040\t12\tBC\tKL04\n290638-71387\t71387\t08/11/2025\t290638PO#93099\tPO#93099\tFortin's Supply Ltd\tFRASER\t45750 Airport Road\tChilliwack\tV2P 1A2\tCA\tTF1080\t1\tBC\tKL04\n290638-71387\t71387\t08/11/2025\t290638PO#93099\tPO#93099\tFortin's Supply Ltd\tFRASER\t45750 Airport Road\tChilliwack\tV2P 1A2\tCA\tGL2040\t6\tBC\tKL04\n290638-71387\t71387\t08/11/2025\t290638PO#93099\tPO#93099\tFortin's Supply Ltd\tFRASER\t45750 Airport Road\tChilliwack\tV2P 1A2\tCA\tGR1830\t20\tBC\tKL04\n290638-71387\t71387\t08/11/2025\t290638PO#93099\tPO#93099\tFortin's Supply Ltd\tFRASER\t45750 Airport Road\tChilliwack\tV2P 1A2\tCA\tHD0360\t21\tBC\tKL04\n290638-71387\t71387\t08/11/2025\t290638PO#93099\tPO#93099\tFortin's Supply Ltd\tFRASER\t45750 Airport Road\tChilliwack\tV2P 1A2\tCA\tHD0560\t12\tBC\tKL04\n290638-71387\t71387\t08/11/2025\t290638PO#93099\tPO#93099\tFortin's Supply Ltd\tFRASER\t45750 Airport Road\tChilliwack\tV2P 1A2\tCA\tHD0780\t4\tBC\tKL04\n290638-71387\t71387\t08/11/2025\t290638PO#93099\tPO#93099\tFortin's Supply Ltd\tFRASER\t45750 Airport Road\tChilliwack\tV2P 1A2\tCA\tHF6680\t1\tBC\tKL04\n290638-71387\t71387\t08/11/2025\t290638PO#93099\tPO#93099\tFortin's Supply Ltd\tFRASER\t45750 Airport Road\tChilliwack\tV2P 1A2\tCA\tIO5180\t1\tBC\tKL04\n290638-71387\t71387\t08/11/2025\t290638PO#93099\tPO#93099\tFortin's Supply Ltd\tFRASER\t45750 Airport Road\tChilliwack\tV2P 1A2\tCA\tLD1040\t12\tBC\tKL04\n290638-71387\t71387\t08/11/2025\t290638PO#93099\tPO#93099\tFortin's Supply Ltd\tFRASER\t45750 Airport Road\tChilliwack\tV2P 1A2\tCA\tLD1240\t24\tBC\tKL04\n290621-71388\t71388\t08/11/2025\t290621R1875-33232.\tR1875-33232.\tBumper To Bumper Kelowna (Store 1875)\tFRASER\t1955 Baron Rd\tKelowna\tV1X 6W2\tCA\tCH8530\t12\tBC\tKL04\n290621-71388\t71388\t08/11/2025\t290621R1875-33232.\tR1875-33232.\tBumper To Bumper Kelowna (Store 1875)\tFRASER\t1955 Baron Rd\tKelowna\tV1X 6W2\tCA\tLD5082\t2\tBC\tKL04\n290621-71388\t71388\t08/11/2025\t290621R1875-33232.\tR1875-33232.\tBumper To Bumper Kelowna (Store 1875)\tFRASER\t1955 Baron Rd\tKelowna\tV1X 6W2\tCA\tLD3482\t11\tBC\tKL04\n290621-71388\t71388\t08/11/2025\t290621R1875-33232.\tR1875-33232.\tBumper To Bumper Kelowna (Store 1875)\tFRASER\t1955 Baron Rd\tKelowna\tV1X 6W2\tCA\tLD3282\t5\tBC\tKL04\n\td\t\t\t\t\t\t\t\t\t\t\t\t\t\n290621-71388\t71388\t08/11/2025\t290621R1875-33232.\tR1875-33232.\tBumper To Bumper Kelowna (Store 1875)\tFRASER\t1955 Baron Rd\tKelowna\tV1X 6W2\tCA\tLD3082\t12\tBC\tKL04\n290621-71388\t71388\t08/11/2025\t290621R1875-33232.\tR1875-33232.\tBumper To Bumper Kelowna (Store 1875)\tFRASER\t1955 Baron Rd\tKelowna\tV1X 6W2\tCA\tLD1282\t28\tBC\tKL04\n290621-71388\t71388\t08/11/2025\t290621R1875-33232.\tR1875-33232.\tBumper To Bumper Kelowna (Store 1875)\tFRASER\t1955 Baron Rd\tKelowna\tV1X 6W2\tCA\tLD1082\t24\tBC\tKL04\n290650-71389\t71389\t08/11/2025\t29065037477\t37477\tGibsons Fasteners\tFRASER\t670 Industrial Way\tGibsons\tV0N 1V7\tCA\tHD0360\t3\tBC\tKL04\n290650-71389\t71389\t08/11/2025\t29065037477\t37477\tGibsons Fasteners\tFRASER\t670 Industrial Way\tGibsons\tV0N 1V7\tCA\tIO1295\t1\tBC\tKL04\n290650-71389\t71389\t08/11/2025\t29065037477\t37477\tGibsons Fasteners\tFRASER\t670 Industrial Way\tGibsons\tV0N 1V7\tCA\tLD2840\t36\tBC\tKL04\n"
          }
        },
        "ae7c91a02d8344cd8d6b6523d3b61357": {
          "model_module": "@jupyter-widgets/base",
          "model_name": "LayoutModel",
          "model_module_version": "1.2.0",
          "state": {
            "_model_module": "@jupyter-widgets/base",
            "_model_module_version": "1.2.0",
            "_model_name": "LayoutModel",
            "_view_count": null,
            "_view_module": "@jupyter-widgets/base",
            "_view_module_version": "1.2.0",
            "_view_name": "LayoutView",
            "align_content": null,
            "align_items": null,
            "align_self": null,
            "border": null,
            "bottom": null,
            "display": null,
            "flex": null,
            "flex_flow": null,
            "grid_area": null,
            "grid_auto_columns": null,
            "grid_auto_flow": null,
            "grid_auto_rows": null,
            "grid_column": null,
            "grid_gap": null,
            "grid_row": null,
            "grid_template_areas": null,
            "grid_template_columns": null,
            "grid_template_rows": null,
            "height": "300px",
            "justify_content": null,
            "justify_items": null,
            "left": null,
            "margin": null,
            "max_height": null,
            "max_width": null,
            "min_height": null,
            "min_width": null,
            "object_fit": null,
            "object_position": null,
            "order": null,
            "overflow": null,
            "overflow_x": null,
            "overflow_y": null,
            "padding": null,
            "right": null,
            "top": null,
            "visibility": null,
            "width": "100%"
          }
        },
        "e15de9027f044ab48579bc5304f20543": {
          "model_module": "@jupyter-widgets/controls",
          "model_name": "DescriptionStyleModel",
          "model_module_version": "1.5.0",
          "state": {
            "_model_module": "@jupyter-widgets/controls",
            "_model_module_version": "1.5.0",
            "_model_name": "DescriptionStyleModel",
            "_view_count": null,
            "_view_module": "@jupyter-widgets/base",
            "_view_module_version": "1.2.0",
            "_view_name": "StyleView",
            "description_width": ""
          }
        },
        "73afb7c986ee47b987c9b0cb7001b498": {
          "model_module": "@jupyter-widgets/controls",
          "model_name": "ButtonModel",
          "model_module_version": "1.5.0",
          "state": {
            "_dom_classes": [],
            "_model_module": "@jupyter-widgets/controls",
            "_model_module_version": "1.5.0",
            "_model_name": "ButtonModel",
            "_view_count": null,
            "_view_module": "@jupyter-widgets/controls",
            "_view_module_version": "1.5.0",
            "_view_name": "ButtonView",
            "button_style": "success",
            "description": "Generate & Download CSV (no headers)",
            "disabled": false,
            "icon": "",
            "layout": "IPY_MODEL_933b3c01646d4f58932a295dbe1e3951",
            "style": "IPY_MODEL_44c191f17ca24f4fbc6317e1dc439c58",
            "tooltip": ""
          }
        },
        "933b3c01646d4f58932a295dbe1e3951": {
          "model_module": "@jupyter-widgets/base",
          "model_name": "LayoutModel",
          "model_module_version": "1.2.0",
          "state": {
            "_model_module": "@jupyter-widgets/base",
            "_model_module_version": "1.2.0",
            "_model_name": "LayoutModel",
            "_view_count": null,
            "_view_module": "@jupyter-widgets/base",
            "_view_module_version": "1.2.0",
            "_view_name": "LayoutView",
            "align_content": null,
            "align_items": null,
            "align_self": null,
            "border": null,
            "bottom": null,
            "display": null,
            "flex": null,
            "flex_flow": null,
            "grid_area": null,
            "grid_auto_columns": null,
            "grid_auto_flow": null,
            "grid_auto_rows": null,
            "grid_column": null,
            "grid_gap": null,
            "grid_row": null,
            "grid_template_areas": null,
            "grid_template_columns": null,
            "grid_template_rows": null,
            "height": null,
            "justify_content": null,
            "justify_items": null,
            "left": null,
            "margin": null,
            "max_height": null,
            "max_width": null,
            "min_height": null,
            "min_width": null,
            "object_fit": null,
            "object_position": null,
            "order": null,
            "overflow": null,
            "overflow_x": null,
            "overflow_y": null,
            "padding": null,
            "right": null,
            "top": null,
            "visibility": null,
            "width": null
          }
        },
        "44c191f17ca24f4fbc6317e1dc439c58": {
          "model_module": "@jupyter-widgets/controls",
          "model_name": "ButtonStyleModel",
          "model_module_version": "1.5.0",
          "state": {
            "_model_module": "@jupyter-widgets/controls",
            "_model_module_version": "1.5.0",
            "_model_name": "ButtonStyleModel",
            "_view_count": null,
            "_view_module": "@jupyter-widgets/base",
            "_view_module_version": "1.2.0",
            "_view_name": "StyleView",
            "button_color": null,
            "font_weight": ""
          }
        },
        "c59b8fc8317d45d4bf4663e7ccec0e9e": {
          "model_module": "@jupyter-widgets/output",
          "model_name": "OutputModel",
          "model_module_version": "1.0.0",
          "state": {
            "_dom_classes": [],
            "_model_module": "@jupyter-widgets/output",
            "_model_module_version": "1.0.0",
            "_model_name": "OutputModel",
            "_view_count": null,
            "_view_module": "@jupyter-widgets/output",
            "_view_module_version": "1.0.0",
            "_view_name": "OutputView",
            "layout": "IPY_MODEL_7bfac6e03088496eb6db24879a1158d0",
            "msg_id": "",
            "outputs": [
              {
                "output_type": "stream",
                "name": "stdout",
                "text": [
                  "✅ CSV generated: s_orders_output.csv\n"
                ]
              },
              {
                "output_type": "display_data",
                "data": {
                  "text/plain": "<IPython.core.display.Javascript object>",
                  "application/javascript": "\n    async function download(id, filename, size) {\n      if (!google.colab.kernel.accessAllowed) {\n        return;\n      }\n      const div = document.createElement('div');\n      const label = document.createElement('label');\n      label.textContent = `Downloading \"${filename}\": `;\n      div.appendChild(label);\n      const progress = document.createElement('progress');\n      progress.max = size;\n      div.appendChild(progress);\n      document.body.appendChild(div);\n\n      const buffers = [];\n      let downloaded = 0;\n\n      const channel = await google.colab.kernel.comms.open(id);\n      // Send a message to notify the kernel that we're ready.\n      channel.send({})\n\n      for await (const message of channel.messages) {\n        // Send a message to notify the kernel that we're ready.\n        channel.send({})\n        if (message.buffers) {\n          for (const buffer of message.buffers) {\n            buffers.push(buffer);\n            downloaded += buffer.byteLength;\n            progress.value = downloaded;\n          }\n        }\n      }\n      const blob = new Blob(buffers, {type: 'application/binary'});\n      const a = document.createElement('a');\n      a.href = window.URL.createObjectURL(blob);\n      a.download = filename;\n      div.appendChild(a);\n      a.click();\n      div.remove();\n    }\n  "
                },
                "metadata": {}
              },
              {
                "output_type": "display_data",
                "data": {
                  "text/plain": "<IPython.core.display.Javascript object>",
                  "application/javascript": "download(\"download_1924f14c-43ea-4af9-aa34-32263a3b6b26\", \"s_orders_output.csv\", 4472)"
                },
                "metadata": {}
              }
            ]
          }
        },
        "7bfac6e03088496eb6db24879a1158d0": {
          "model_module": "@jupyter-widgets/base",
          "model_name": "LayoutModel",
          "model_module_version": "1.2.0",
          "state": {
            "_model_module": "@jupyter-widgets/base",
            "_model_module_version": "1.2.0",
            "_model_name": "LayoutModel",
            "_view_count": null,
            "_view_module": "@jupyter-widgets/base",
            "_view_module_version": "1.2.0",
            "_view_name": "LayoutView",
            "align_content": null,
            "align_items": null,
            "align_self": null,
            "border": null,
            "bottom": null,
            "display": null,
            "flex": null,
            "flex_flow": null,
            "grid_area": null,
            "grid_auto_columns": null,
            "grid_auto_flow": null,
            "grid_auto_rows": null,
            "grid_column": null,
            "grid_gap": null,
            "grid_row": null,
            "grid_template_areas": null,
            "grid_template_columns": null,
            "grid_template_rows": null,
            "height": null,
            "justify_content": null,
            "justify_items": null,
            "left": null,
            "margin": null,
            "max_height": null,
            "max_width": null,
            "min_height": null,
            "min_width": null,
            "object_fit": null,
            "object_position": null,
            "order": null,
            "overflow": null,
            "overflow_x": null,
            "overflow_y": null,
            "padding": null,
            "right": null,
            "top": null,
            "visibility": null,
            "width": null
          }
        }
      }
    }
  },
  "cells": [
    {
      "cell_type": "code",
      "execution_count": 1,
      "metadata": {
        "colab": {
          "base_uri": "https://localhost:8080/",
          "height": 390,
          "referenced_widgets": [
            "30036a18af644c3fa9bab54c23554476",
            "ae7c91a02d8344cd8d6b6523d3b61357",
            "e15de9027f044ab48579bc5304f20543",
            "73afb7c986ee47b987c9b0cb7001b498",
            "933b3c01646d4f58932a295dbe1e3951",
            "44c191f17ca24f4fbc6317e1dc439c58",
            "c59b8fc8317d45d4bf4663e7ccec0e9e",
            "7bfac6e03088496eb6db24879a1158d0"
          ]
        },
        "id": "liz1GeCm3Df0",
        "outputId": "b719c114-f5a6-4cd6-dd8d-cc243db4117c"
      },
      "outputs": [
        {
          "output_type": "display_data",
          "data": {
            "text/plain": [
              "Textarea(value=\"Reference #\\tPick ID\\tPick Date\\tSales Order No.\\tCustomer PO\\tShip To\\tStreet\\tCity\\tZip Code…"
            ],
            "application/vnd.jupyter.widget-view+json": {
              "version_major": 2,
              "version_minor": 0,
              "model_id": "30036a18af644c3fa9bab54c23554476"
            }
          },
          "metadata": {}
        },
        {
          "output_type": "display_data",
          "data": {
            "text/plain": [
              "Button(button_style='success', description='Generate & Download CSV (no headers)', style=ButtonStyle())"
            ],
            "application/vnd.jupyter.widget-view+json": {
              "version_major": 2,
              "version_minor": 0,
              "model_id": "73afb7c986ee47b987c9b0cb7001b498"
            }
          },
          "metadata": {}
        },
        {
          "output_type": "display_data",
          "data": {
            "text/plain": [
              "Output()"
            ],
            "application/vnd.jupyter.widget-view+json": {
              "version_major": 2,
              "version_minor": 0,
              "model_id": "c59b8fc8317d45d4bf4663e7ccec0e9e"
            }
          },
          "metadata": {}
        }
      ],
      "source": [
        "import pandas as pd\n",
        "import ipywidgets as widgets\n",
        "from IPython.display import display\n",
        "from io import StringIO\n",
        "import csv\n",
        "\n",
        "# Text area widget for raw TSV input\n",
        "order_input = widgets.Textarea(\n",
        "    value='Reference #\\tPick ID\\tPick Date\\tSales Order No.\\tCustomer PO\\tShip To\\tStreet\\tCity\\tZip Code\\tCountry/Region\\tItem No.\\tEach Qty\\tstate\\tCLIENT\\tWHSE\\n'\n",
        "          '290638-71387\\t71387\\t08/11/2025\\t290638PO#93099\\tPO#93099\\tFortin\\'s Supply Ltd\\t45750 Airport Road\\tChilliwack\\tV2P 1A2\\tCA\\tCH6590\\t1\\tBC\\tKL04\\tFRASER\\n'\n",
        "          '290638-71387\\t71387\\t08/11/2025\\t290638PO#93099\\tPO#93099\\tFortin\\'s Supply Ltd\\t45750 Airport Road\\tChilliwack\\tV2P 1A2\\tCA\\tCH8950\\t3\\tBC\\tKL04\\tFRASER',\n",
        "    description='Paste your TSV data:',\n",
        "    layout=widgets.Layout(width='100%', height='300px')\n",
        ")\n",
        "\n",
        "generate_button = widgets.Button(description='Generate & Download CSV (no headers)', button_style='success')\n",
        "output = widgets.Output()\n",
        "\n",
        "csv_filename = 's_orders_output.csv'\n",
        "\n",
        "def trim_text(val, max_len):\n",
        "    if pd.isnull(val):\n",
        "        return ''\n",
        "    return str(val).strip()[:max_len]\n",
        "\n",
        "def is_present(val):\n",
        "    s = str(val).strip()\n",
        "    return s != '' and s.lower() != 'nan'\n",
        "\n",
        "def on_generate_clicked(b):\n",
        "    with output:\n",
        "        output.clear_output()\n",
        "        raw_text = order_input.value.strip()\n",
        "        if not raw_text:\n",
        "            print(\"⚠️ Please paste your tabular data (with headers).\")\n",
        "            return\n",
        "        try:\n",
        "            df = pd.read_csv(StringIO(raw_text), delimiter='\\t', dtype=str)\n",
        "        except Exception as e:\n",
        "            print(\"❌ Error reading data:\", e)\n",
        "            return\n",
        "\n",
        "        needed_cols = ['Sales Order No.', 'Pick Date', 'Item No.', 'Each Qty', 'WHSE', 'Ship To', 'Street', 'City', 'Zip Code', 'Country/Region', 'state', 'Customer PO', 'CLIENT']\n",
        "        missing = [c for c in needed_cols if c not in df.columns]\n",
        "        if missing:\n",
        "            print(f\"❌ Missing columns in input: {missing}\")\n",
        "            return\n",
        "\n",
        "        for col in needed_cols:\n",
        "            df[col] = df[col].fillna('').astype(str).str.strip()\n",
        "\n",
        "        df['Pick Date'] = pd.to_datetime(df['Pick Date'], errors='coerce').dt.strftime('%m/%d/%Y').fillna('')\n",
        "\n",
        "        # Prepare output columns A to Z + AA to AJ\n",
        "        cols_A_to_Z = [chr(i) for i in range(ord('A'), ord('Z')+1)]\n",
        "        cols_AA_to_AJ = ['A'+chr(i) for i in range(ord('A'), ord('J')+1)]\n",
        "        all_cols = cols_A_to_Z + cols_AA_to_AJ\n",
        "\n",
        "        valid_rows = []\n",
        "        invalid_found = False\n",
        "        for idx, row in df.iterrows():\n",
        "            has_ref = is_present(row['Sales Order No.'])\n",
        "            has_item = is_present(row['Item No.'])\n",
        "            if has_ref and has_item:\n",
        "                out_row = {col: '' for col in all_cols}\n",
        "                out_row['A'] = 'BC'\n",
        "                out_row['B'] = trim_text(row['CLIENT'], 45)\n",
        "                out_row['C'] = trim_text(row['Sales Order No.'], 45)\n",
        "                out_row['D'] = trim_text(row['Customer PO'], 45)\n",
        "                out_row['F'] = row['Pick Date']\n",
        "                out_row['G'] = row['Pick Date']\n",
        "                out_row['I'] = trim_text(row['Ship To'], 45)\n",
        "                out_row['K'] = trim_text(row['Street'], 30)\n",
        "                out_row['M'] = trim_text(row['City'], 45)\n",
        "                out_row['N'] = trim_text(row['state'], 10)\n",
        "                out_row['O'] = trim_text(row['Zip Code'], 10)\n",
        "                out_row['P'] = trim_text(row['Country/Region'], 10)\n",
        "                out_row['X'] = trim_text(row['Item No.'], 45)\n",
        "                qty_val = pd.to_numeric(row['Each Qty'], errors='coerce')\n",
        "                out_row['Y'] = int(qty_val) if not pd.isna(qty_val) else 0\n",
        "                out_row['AJ'] = trim_text(row['WHSE'], 45)\n",
        "                valid_rows.append(out_row)\n",
        "            else:\n",
        "                invalid_found = True\n",
        "\n",
        "        if not valid_rows:\n",
        "            print(\"⚠️ No valid data rows found.\")\n",
        "            return\n",
        "\n",
        "        out_df = pd.DataFrame(valid_rows, columns=all_cols)\n",
        "\n",
        "        if invalid_found:\n",
        "            first_row = out_df.iloc[0].copy()\n",
        "            first_row['C'] = 'DELETE_ME_ROW'\n",
        "            out_df = pd.concat([out_df, pd.DataFrame([first_row])], ignore_index=True)\n",
        "\n",
        "        # Convert DataFrame to CSV string with Windows-1252 encoding\n",
        "        csv_content = out_df.to_csv(index=False, header=False, sep=',', encoding='cp1252',\n",
        "                                   quoting=csv.QUOTE_MINIMAL)\n",
        "        csv_content = csv_content.replace('\\n', '\\r\\n')\n",
        "\n",
        "        with open(csv_filename, 'w', encoding='cp1252', newline='') as f:\n",
        "            f.write(csv_content)\n",
        "\n",
        "        print(f\"✅ CSV generated: {csv_filename}\")\n",
        "\n",
        "        # Download file (works in Colab, might not work in all Jupyter env)\n",
        "        try:\n",
        "            from google.colab import files\n",
        "            files.download(csv_filename)\n",
        "        except ImportError:\n",
        "            print(\"Download button not available in this environment. Please download manually.\")\n",
        "\n",
        "generate_button.on_click(on_generate_clicked)\n",
        "\n",
        "display(order_input, generate_button, output)\n"
      ]
    }
  ]
}